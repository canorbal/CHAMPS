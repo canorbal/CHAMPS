{
 "cells": [
  {
   "cell_type": "code",
   "execution_count": 1,
   "metadata": {},
   "outputs": [],
   "source": [
    "import pandas as pd\n",
    "import numpy as np"
   ]
  },
  {
   "cell_type": "code",
   "execution_count": 2,
   "metadata": {},
   "outputs": [],
   "source": [
    "train = pd.read_csv('../data/train.csv')\n",
    "sub = pd.read_csv('../data/sample_submission.csv')\n",
    "test = pd.read_csv('../data/test.csv')"
   ]
  },
  {
   "cell_type": "code",
   "execution_count": 78,
   "metadata": {},
   "outputs": [
    {
     "name": "stderr",
     "output_type": "stream",
     "text": [
      "/home/shakhrayv/.virtualenvs/py3.6-dl/lib/python3.6/site-packages/ipykernel_launcher.py:24: SettingWithCopyWarning: \n",
      "A value is trying to be set on a copy of a slice from a DataFrame.\n",
      "Try using .loc[row_indexer,col_indexer] = value instead\n",
      "\n",
      "See the caveats in the documentation: http://pandas.pydata.org/pandas-docs/stable/user_guide/indexing.html#returning-a-view-versus-a-copy\n"
     ]
    },
    {
     "name": "stdout",
     "output_type": "stream",
     "text": [
      "min error -0.6539483129223752, coefs [0.6000000000000001, 0.0, 0.3999999999999999]\n"
     ]
    }
   ],
   "source": [
    "type_mol = '1JHC'\n",
    "\n",
    "files = [\n",
    "    '../results/each_type/400_feats_types_split_models_1JHC.npy',\n",
    "    '../results/each_type/types_split_models_1JHC.npy',\n",
    "    '../results/each_type/100k_iters_distance_feats_200_feats_types_split_models_1JHC.npy',\n",
    "]\n",
    "\n",
    "res_oof = [np.load(file, allow_pickle=True).item()['oof'] for file in files]\n",
    "res_preds = [np.load(file, allow_pickle=True).item()['prediction'] for file in files]\n",
    "train_mask = train.type == type_mol\n",
    "train_type = train[train_mask]\n",
    "\n",
    "min_error = +np.inf\n",
    "\n",
    "for alpha in np.arange(0., 1, 0.05):\n",
    "    for beta in np.arange(0., 1-alpha, 0.05):\n",
    "        gamma = 1 - alpha - beta\n",
    "\n",
    "        total_type_res = (res_oof[0] * alpha + \n",
    "                          res_oof[1] * beta + \n",
    "                          res_oof[2] * gamma)\n",
    "\n",
    "        train_type['oof'] = total_type_res\n",
    "        error = np.mean(np.abs(train_type['oof'] - train_type['scalar_coupling_constant']))\n",
    "        error = np.log(error)\n",
    "        if error < min_error:\n",
    "            min_error = error\n",
    "            coefs = [alpha, beta, gamma]\n",
    "                \n",
    "print(f'min error {min_error}, coefs {coefs}')\n",
    "\n",
    "test_mask = test.type == type_mol\n",
    "test.loc[test_mask, 'prediction'] = (res_preds[0]*alpha +\n",
    "                                     res_preds[1]*beta + \n",
    "                                     res_preds[2]*gamma)"
   ]
  },
  {
   "cell_type": "code",
   "execution_count": 86,
   "metadata": {},
   "outputs": [
    {
     "name": "stderr",
     "output_type": "stream",
     "text": [
      "/home/shakhrayv/.virtualenvs/py3.6-dl/lib/python3.6/site-packages/ipykernel_launcher.py:31: SettingWithCopyWarning: \n",
      "A value is trying to be set on a copy of a slice from a DataFrame.\n",
      "Try using .loc[row_indexer,col_indexer] = value instead\n",
      "\n",
      "See the caveats in the documentation: http://pandas.pydata.org/pandas-docs/stable/user_guide/indexing.html#returning-a-view-versus-a-copy\n"
     ]
    },
    {
     "name": "stdout",
     "output_type": "stream",
     "text": [
      "type 1JHN min error -1.3093333811252612, coefs [0.55, 0.25, 0.1, 0.09999999999999995]\n",
      "type 2JHC min error -1.6866350384183553, coefs [0.55, 0.15000000000000002, 0.0, 0.29999999999999993]\n",
      "type 2JHN min error -2.214220045391107, coefs [0.7000000000000001, 0.1, 0.1, 0.09999999999999992]\n",
      "type 2JHH min error -2.181000577067227, coefs [0.4, 0.35000000000000003, 0.05, 0.19999999999999996]\n",
      "type 3JHC min error -1.5769002361341569, coefs [0.55, 0.1, 0.0, 0.35]\n",
      "type 3JHH min error -2.1175020705291163, coefs [0.65, 0.05, 0.1, 0.19999999999999998]\n"
     ]
    }
   ],
   "source": [
    "scores = []\n",
    "for type_mol in ['1JHN', '2JHC', '2JHN', '2JHH', '3JHC', '3JHH']:\n",
    "    files = [\n",
    "        f'../results/each_type/distance_kernel_{type_mol}.npy',\n",
    "        f'../results/each_type/400_feats_types_split_models_{type_mol}.npy',\n",
    "        f'../results/each_type/types_split_models_{type_mol}.npy',\n",
    "        f'../results/each_type/100k_iters_distance_feats_200_feats_types_split_models_{type_mol}.npy',\n",
    "    ]\n",
    "\n",
    "    for file in files:\n",
    "        np.load(file, allow_pickle=True).item()['oof']\n",
    "        \n",
    "        \n",
    "    res_oof = [np.load(file, allow_pickle=True).item()['oof'] for file in files]\n",
    "    res_preds = [np.load(file, allow_pickle=True).item()['prediction'] for file in files]\n",
    "    train_mask = train.type == type_mol\n",
    "    train_type = train[train_mask]\n",
    "\n",
    "    min_error = +np.inf\n",
    "\n",
    "    for alpha in np.arange(0., 1, 0.05):\n",
    "        for beta in np.arange(0., 1-alpha, 0.05):\n",
    "            for gamma in np.arange(0., 1-alpha-beta, 0.05):\n",
    "                zeta = 1 - alpha - beta - gamma\n",
    "\n",
    "                total_type_res = (res_oof[0] * alpha + \n",
    "                                  res_oof[1] * beta + \n",
    "                                  res_oof[2] * gamma + \n",
    "                                  res_oof[3] * zeta)\n",
    "\n",
    "                train_type['oof'] = total_type_res\n",
    "                error = np.mean(np.abs(train_type['oof'] - train_type['scalar_coupling_constant']))\n",
    "                error = np.log(error)\n",
    "                if error < min_error:\n",
    "                    min_error = error\n",
    "                    coefs = [alpha, beta, gamma, zeta]\n",
    "\n",
    "    print(f'type {type_mol} min error {min_error}, coefs {coefs}')\n",
    "\n",
    "    test_mask = test.type == type_mol\n",
    "    test.loc[test_mask, 'prediction'] = (res_preds[0]*alpha +\n",
    "                                         res_preds[1]*beta + \n",
    "                                         res_preds[2]*gamma +\n",
    "                                         res_preds[3]*zeta)\n",
    "    \n",
    "    scores.append(min_error)"
   ]
  },
  {
   "cell_type": "code",
   "execution_count": null,
   "metadata": {},
   "outputs": [],
   "source": []
  },
  {
   "cell_type": "code",
   "execution_count": 90,
   "metadata": {},
   "outputs": [
    {
     "name": "stderr",
     "output_type": "stream",
     "text": [
      "/home/shakhrayv/.virtualenvs/py3.6-dl/lib/python3.6/site-packages/ipykernel_launcher.py:31: SettingWithCopyWarning: \n",
      "A value is trying to be set on a copy of a slice from a DataFrame.\n",
      "Try using .loc[row_indexer,col_indexer] = value instead\n",
      "\n",
      "See the caveats in the documentation: http://pandas.pydata.org/pandas-docs/stable/user_guide/indexing.html#returning-a-view-versus-a-copy\n"
     ]
    },
    {
     "name": "stdout",
     "output_type": "stream",
     "text": [
      "min error -2.443562468744089, coefs [0.0, 0.05, 0.6000000000000001, 0.1, 0.24999999999999986]\n"
     ]
    }
   ],
   "source": [
    "type_mol = '3JHN'\n",
    "\n",
    "files = [\n",
    "    '../results/each_type/400_feats_types_split_models_3JHN.npy',\n",
    "    '../results/each_type/types_split_models_3JHN.npy',\n",
    "    '../results/each_type/distance_kernel_3JHN.npy',\n",
    "    '../results/each_type/groupby_distance_kernel_3JHN.npy',\n",
    "    '../results/each_type/tuned_kernel_distance_3JHN.npy'\n",
    "]\n",
    "\n",
    "res_oof = [np.load(file, allow_pickle=True).item()['oof'] for file in files]\n",
    "res_preds = [np.load(file, allow_pickle=True).item()['prediction'] for file in files]\n",
    "train_mask = train.type == type_mol\n",
    "train_type = train[train_mask]\n",
    "\n",
    "min_error = +np.inf\n",
    "\n",
    "for alpha in np.arange(0., 1, 0.05):\n",
    "    for beta in np.arange(0., 1-alpha, 0.05):\n",
    "        for eps in np.arange(0, 1-alpha-beta, 0.05):\n",
    "            for dzeta in np.arange(0, 1-alpha-beta-eps, 0.05):\n",
    "                gamma = 1 - alpha - beta - eps - dzeta\n",
    "\n",
    "                total_type_res = (res_oof[0] * alpha + \n",
    "                                  res_oof[1] * beta + \n",
    "                                  res_oof[2] * eps +\n",
    "                                  res_oof[3] * dzeta +\n",
    "                                  res_oof[4] * gamma\n",
    "                                 )\n",
    "\n",
    "                train_type['oof'] = total_type_res\n",
    "                error = np.mean(np.abs(train_type['oof'] - train_type['scalar_coupling_constant']))\n",
    "                error = np.log(error)\n",
    "                if error < min_error:\n",
    "                    min_error = error\n",
    "                    coefs = [alpha, beta, eps, dzeta, gamma]\n",
    "                \n",
    "print(f'min error {min_error}, coefs {coefs}')\n",
    "\n",
    "test_mask = test.type == type_mol\n",
    "test.loc[test_mask, 'prediction'] = (res_preds[0] * alpha + \n",
    "                                  res_preds[1] * beta + \n",
    "                                  res_preds[2] * eps +\n",
    "                                  res_preds[3] * dzeta +\n",
    "                                  res_preds[4] * gamma\n",
    "                                 )"
   ]
  },
  {
   "cell_type": "code",
   "execution_count": 92,
   "metadata": {},
   "outputs": [],
   "source": [
    "file_configs = {\n",
    "    '1JHC' : [\n",
    "        '../results/each_type/400_feats_types_split_models_1JHC.npy',\n",
    "        '../results/each_type/types_split_models_1JHC.npy',\n",
    "        '../results/each_type/100k_iters_distance_feats_200_feats_types_split_models_1JHC.npy',\n",
    "    ],\n",
    "    \n",
    "    '3JHN': [\n",
    "        '../results/each_type/400_feats_types_split_models_3JHN.npy',\n",
    "        '../results/each_type/types_split_models_3JHN.npy',\n",
    "        '../results/each_type/distance_kernel_3JHN.npy',\n",
    "        '../results/each_type/groupby_distance_kernel_3JHN.npy',\n",
    "        '../results/each_type/tuned_kernel_distance_3JHN.npy'\n",
    "    ]\n",
    "}\n",
    "\n",
    "for type_mol in ['1JHN', '2JHC', '2JHN', '2JHH', '3JHC', '3JHH']:\n",
    "    files = [\n",
    "        f'../results/each_type/distance_kernel_{type_mol}.npy',\n",
    "        f'../results/each_type/400_feats_types_split_models_{type_mol}.npy',\n",
    "        f'../results/each_type/types_split_models_{type_mol}.npy',\n",
    "        f'../results/each_type/100k_iters_distance_feats_200_feats_types_split_models_{type_mol}.npy',\n",
    "    ]\n",
    "    file_configs.update({type_mol: files})"
   ]
  },
  {
   "cell_type": "code",
   "execution_count": 93,
   "metadata": {},
   "outputs": [
    {
     "data": {
      "text/plain": [
       "{'1JHC': ['../results/each_type/400_feats_types_split_models_1JHC.npy',\n",
       "  '../results/each_type/types_split_models_1JHC.npy',\n",
       "  '../results/each_type/100k_iters_distance_feats_200_feats_types_split_models_1JHC.npy'],\n",
       " '3JHN': ['../results/each_type/400_feats_types_split_models_3JHN.npy',\n",
       "  '../results/each_type/types_split_models_3JHN.npy',\n",
       "  '../results/each_type/distance_kernel_3JHN.npy',\n",
       "  '../results/each_type/groupby_distance_kernel_3JHN.npy',\n",
       "  '../results/each_type/tuned_kernel_distance_3JHN.npy'],\n",
       " '1JHN': ['../results/each_type/distance_kernel_1JHN.npy',\n",
       "  '../results/each_type/400_feats_types_split_models_1JHN.npy',\n",
       "  '../results/each_type/types_split_models_1JHN.npy',\n",
       "  '../results/each_type/100k_iters_distance_feats_200_feats_types_split_models_1JHN.npy'],\n",
       " '2JHC': ['../results/each_type/distance_kernel_2JHC.npy',\n",
       "  '../results/each_type/400_feats_types_split_models_2JHC.npy',\n",
       "  '../results/each_type/types_split_models_2JHC.npy',\n",
       "  '../results/each_type/100k_iters_distance_feats_200_feats_types_split_models_2JHC.npy'],\n",
       " '2JHN': ['../results/each_type/distance_kernel_2JHN.npy',\n",
       "  '../results/each_type/400_feats_types_split_models_2JHN.npy',\n",
       "  '../results/each_type/types_split_models_2JHN.npy',\n",
       "  '../results/each_type/100k_iters_distance_feats_200_feats_types_split_models_2JHN.npy'],\n",
       " '2JHH': ['../results/each_type/distance_kernel_2JHH.npy',\n",
       "  '../results/each_type/400_feats_types_split_models_2JHH.npy',\n",
       "  '../results/each_type/types_split_models_2JHH.npy',\n",
       "  '../results/each_type/100k_iters_distance_feats_200_feats_types_split_models_2JHH.npy'],\n",
       " '3JHC': ['../results/each_type/distance_kernel_3JHC.npy',\n",
       "  '../results/each_type/400_feats_types_split_models_3JHC.npy',\n",
       "  '../results/each_type/types_split_models_3JHC.npy',\n",
       "  '../results/each_type/100k_iters_distance_feats_200_feats_types_split_models_3JHC.npy'],\n",
       " '3JHH': ['../results/each_type/distance_kernel_3JHH.npy',\n",
       "  '../results/each_type/400_feats_types_split_models_3JHH.npy',\n",
       "  '../results/each_type/types_split_models_3JHH.npy',\n",
       "  '../results/each_type/100k_iters_distance_feats_200_feats_types_split_models_3JHH.npy']}"
      ]
     },
     "execution_count": 93,
     "metadata": {},
     "output_type": "execute_result"
    }
   ],
   "source": [
    "file_configs"
   ]
  },
  {
   "cell_type": "code",
   "execution_count": 94,
   "metadata": {},
   "outputs": [],
   "source": [
    "from sklearn.linear_model import LinearRegression"
   ]
  },
  {
   "cell_type": "code",
   "execution_count": 111,
   "metadata": {},
   "outputs": [
    {
     "name": "stdout",
     "output_type": "stream",
     "text": [
      "type 1JHC, error -0.6537488951364334, coefs [0.57393264 0.05475311 0.37135506], coef_sum 1.000040813611806\n",
      "type 2JHH, error -2.1790725882775663, coefs [0.3895958  0.33801274 0.07353977 0.19925919], coef_sum 1.0004075037592413\n",
      "type 1JHN, error -1.3063508216611763, coefs [0.484811   0.28748734 0.10294226 0.12491044], coef_sum 1.000151046823288\n",
      "type 2JHN, error -2.202475787243844, coefs [0.60416211 0.07141342 0.14219473 0.18411486], coef_sum 1.0018851181283788\n",
      "type 2JHC, error -1.6846677418637077, coefs [ 0.46246452  0.35673953 -0.19304283  0.3782191 ], coef_sum 1.0043803213600153\n",
      "type 3JHH, error -2.1132705865644303, coefs [0.59960323 0.10235526 0.0926326  0.20647525], coef_sum 1.0010663410753986\n",
      "type 3JHC, error -1.5747277752337085, coefs [ 0.48923009  0.23928508 -0.15110613  0.42678566], coef_sum 1.0041946934325474\n",
      "type 3JHN, error -2.4299822241983975, coefs [0.04668629 0.05635588 0.56562818 0.0141304  0.32683405], coef_sum 1.0096348076017998\n"
     ]
    }
   ],
   "source": [
    "scores = []\n",
    "for type_mol in train.type.unique():\n",
    "    files = file_configs[type_mol]\n",
    "    number_of_files = len(files)\n",
    "    \n",
    "    res_oof = [np.load(file, allow_pickle=True).item()['oof'] for file in files]\n",
    "    res_preds = [np.load(file, allow_pickle=True).item()['prediction'] for file in files]\n",
    "    \n",
    "    train_mask = train.type == type_mol\n",
    "    train_type = train[train_mask]\n",
    "\n",
    "    lr = LinearRegression(fit_intercept=False)\n",
    "    \n",
    "    X_train = np.vstack(res_oof).T\n",
    "    X_test = np.vstack(res_preds).T\n",
    "    \n",
    "    y_train = train_type['scalar_coupling_constant']\n",
    "    lr.fit(X_train, y_train)\n",
    "    oof_preds = lr.predict(X_train)\n",
    "    error = np.mean(np.abs(oof_preds - train_type['scalar_coupling_constant']))\n",
    "    error = np.log(error)\n",
    "    print(f'type {type_mol}, error {error}, coefs {lr.coef_}, coef_sum {np.sum(lr.coef_)}')\n",
    "    \n",
    "    test_preds = lr.predict(X_test)\n",
    "    test_mask = test.type == type_mol\n",
    "    test.loc[test_mask, 'prediction'] = test_preds\n",
    "    \n",
    "    scores.append(error)"
   ]
  },
  {
   "cell_type": "code",
   "execution_count": 113,
   "metadata": {},
   "outputs": [
    {
     "data": {
      "text/plain": [
       "-1.768037052522408"
      ]
     },
     "execution_count": 113,
     "metadata": {},
     "output_type": "execute_result"
    }
   ],
   "source": [
    "np.mean(scores)"
   ]
  },
  {
   "cell_type": "code",
   "execution_count": 112,
   "metadata": {},
   "outputs": [],
   "source": [
    "sub['scalar_coupling_constant'] = test['prediction']\n",
    "sub.to_csv('../submissions/super_puper_blend_hey.csv', index=False)"
   ]
  },
  {
   "cell_type": "code",
   "execution_count": null,
   "metadata": {},
   "outputs": [],
   "source": []
  },
  {
   "cell_type": "code",
   "execution_count": null,
   "metadata": {},
   "outputs": [],
   "source": []
  },
  {
   "cell_type": "code",
   "execution_count": null,
   "metadata": {},
   "outputs": [],
   "source": []
  },
  {
   "cell_type": "code",
   "execution_count": 76,
   "metadata": {},
   "outputs": [
    {
     "name": "stderr",
     "output_type": "stream",
     "text": [
      "/home/shakhrayv/.virtualenvs/py3.6-dl/lib/python3.6/site-packages/ipykernel_launcher.py:27: SettingWithCopyWarning: \n",
      "A value is trying to be set on a copy of a slice from a DataFrame.\n",
      "Try using .loc[row_indexer,col_indexer] = value instead\n",
      "\n",
      "See the caveats in the documentation: http://pandas.pydata.org/pandas-docs/stable/user_guide/indexing.html#returning-a-view-versus-a-copy\n"
     ]
    },
    {
     "name": "stdout",
     "output_type": "stream",
     "text": [
      "min error -1.6866350384183553, coefs [0.55, 0.15000000000000002, 0.0, 0.29999999999999993]\n"
     ]
    }
   ],
   "source": [
    "type_mol = '2JHC'\n",
    "\n",
    "files = [\n",
    "    '../results/each_type/distance_kernel_2JHC_tuned_params.npy',\n",
    "    '../results/each_type/400_feats_types_split_models_2JHC.npy',\n",
    "    '../results/each_type/types_split_models_2JHC.npy',\n",
    "    '../results/each_type/100k_iters_distance_feats_200_feats_types_split_models_2JHC.npy',\n",
    "]\n",
    "\n",
    "res_oof = [np.load(file, allow_pickle=True).item()['oof'] for file in files]\n",
    "res_preds = [np.load(file, allow_pickle=True).item()['prediction'] for file in files]\n",
    "train_mask = train.type == type_mol\n",
    "train_type = train[train_mask]\n",
    "\n",
    "min_error = +np.inf\n",
    "\n",
    "for alpha in np.arange(0., 1, 0.05):\n",
    "    for beta in np.arange(0., 1-alpha, 0.05):\n",
    "        for gamma in np.arange(0., 1-alpha-beta, 0.05):\n",
    "            zeta = 1 - alpha - beta - gamma\n",
    "            \n",
    "            total_type_res = (res_oof[0] * alpha + \n",
    "                              res_oof[1] * beta + \n",
    "                              res_oof[2] * gamma + \n",
    "                              res_oof[3] * zeta)\n",
    "\n",
    "            train_type['oof'] = total_type_res\n",
    "            error = np.mean(np.abs(train_type['oof'] - train_type['scalar_coupling_constant']))\n",
    "            error = np.log(error)\n",
    "            if error < min_error:\n",
    "                min_error = error\n",
    "                coefs = [alpha, beta, gamma, zeta]\n",
    "                \n",
    "print(f'min error {min_error}, coefs {coefs}')\n",
    "\n",
    "test_mask = test.type == type_mol\n",
    "test.loc[test_mask, 'prediction'] = (res_preds[0]*alpha +\n",
    "                                     res_preds[1]*beta + \n",
    "                                     res_preds[2]*gamma +\n",
    "                                     res_preds[3]*zeta)"
   ]
  },
  {
   "cell_type": "code",
   "execution_count": null,
   "metadata": {},
   "outputs": [],
   "source": []
  },
  {
   "cell_type": "code",
   "execution_count": 66,
   "metadata": {},
   "outputs": [
    {
     "name": "stdout",
     "output_type": "stream",
     "text": [
      "type 2JHC: error -1.6033875614044892)\n"
     ]
    },
    {
     "name": "stderr",
     "output_type": "stream",
     "text": [
      "/home/shakhrayv/.virtualenvs/py3.6-dl/lib/python3.6/site-packages/ipykernel_launcher.py:17: SettingWithCopyWarning: \n",
      "A value is trying to be set on a copy of a slice from a DataFrame.\n",
      "Try using .loc[row_indexer,col_indexer] = value instead\n",
      "\n",
      "See the caveats in the documentation: http://pandas.pydata.org/pandas-docs/stable/user_guide/indexing.html#returning-a-view-versus-a-copy\n"
     ]
    }
   ],
   "source": [
    "type_mol = '2JHC'\n",
    "\n",
    "files = [\n",
    "    '../results/each_type/distance_kernel_2JHC_tuned_params.npy',\n",
    "    '../results/each_type/400_feats_types_split_models_2JHC.npy',\n",
    "    '../results/each_type/types_split_models_2JHC.npy',\n",
    "    '../results/each_type/100k_iters_distance_feats_200_feats_types_split_models_2JHC.npy',\n",
    "]\n",
    "\n",
    "res_oof = [np.load(file, allow_pickle=True).item()['oof'] for file in files]\n",
    "res_preds = [np.load(file, allow_pickle=True).item()['prediction'] for file in files]\n",
    "train_mask = train.type == type_mol\n",
    "train_type = train[train_mask]\n",
    "\n",
    "total_type_res = res_oof[0] * 0.35 + res_oof[1] * 0.35 + res_oof[2] * 0.15 + res_oof[3] * 0.15\n",
    "\n",
    "train_type['oof'] = total_type_res\n",
    "error = np.mean(np.abs(train_type['oof'] - train_type['scalar_coupling_constant']))\n",
    "error = np.log(error)\n",
    "print(f'type {type_mol}: error {error})')\n",
    "\n",
    "test_mask = test.type == type_mol\n",
    "test.loc[test_mask, 'prediction'] = res_preds[0]*0.35 + res_preds[1]*0.35 + res_preds[2]*0.15 +res_preds[3]*0.15"
   ]
  },
  {
   "cell_type": "code",
   "execution_count": null,
   "metadata": {},
   "outputs": [],
   "source": []
  },
  {
   "cell_type": "code",
   "execution_count": null,
   "metadata": {},
   "outputs": [],
   "source": []
  },
  {
   "cell_type": "code",
   "execution_count": null,
   "metadata": {},
   "outputs": [],
   "source": []
  },
  {
   "cell_type": "code",
   "execution_count": null,
   "metadata": {},
   "outputs": [],
   "source": [
    "type_mol = '1JHC'\n",
    "\n",
    "files = [\n",
    "    '../results/each_type/400_feats_types_split_models_1JHC.npy',\n",
    "    '../results/each_type/types_split_models_1JHC.npy',\n",
    "    '../results/each_type/100k_iters_distance_feats_200_feats_types_split_models_1JHC.npy',\n",
    "]\n",
    "\n",
    "res_oof = [np.load(file, allow_pickle=True).item()['oof'] for file in files]\n",
    "train_mask = train.type == type_mol\n",
    "train_type = train[train_mask]\n",
    "\n",
    "total_type_res = res_oof[0] * 0.4 + res_oof[1] * 0.2 + res_oof[2] * 0.4\n",
    "train_type['oof'] = total_type_res\n",
    "error = np.mean(np.abs(train_type['oof'] - train_type['scalar_coupling_constant']))\n",
    "error = np.log(error)\n",
    "print(f'type {type_mol}: error {error})')\n",
    "\n",
    "test_mask = test.type == type_mol\n",
    "test.loc[test_mask, 'prediction'] = results['prediction']"
   ]
  },
  {
   "cell_type": "code",
   "execution_count": null,
   "metadata": {},
   "outputs": [],
   "source": []
  },
  {
   "cell_type": "code",
   "execution_count": null,
   "metadata": {},
   "outputs": [],
   "source": []
  },
  {
   "cell_type": "code",
   "execution_count": null,
   "metadata": {},
   "outputs": [],
   "source": []
  },
  {
   "cell_type": "code",
   "execution_count": 13,
   "metadata": {},
   "outputs": [],
   "source": [
    "file_results = {\n",
    "    '1JHC': \n",
    "        {\n",
    "            'files': [\n",
    "            '../results/each_type/400_feats_types_split_models_1JHC.npy',\n",
    "            '../results/each_type/types_split_models_1JHC.npy',\n",
    "            '../results/each_type/100k_iters_distance_feats_200_feats_types_split_models_1JHC.npy',\n",
    "            ],\n",
    "            'coefs':\n",
    "#     '1JHN': '../results/each_type/distance_kernel_1JHN.npy',\n",
    "#     '2JHC': '../results/each_type/distance_kernel_2JHC_tuned_params.npy',\n",
    "#     '2JHH': '../results/each_type/distance_kernel_2JHH_tuned_params.npy',\n",
    "#     '2JHN': '../results/each_type/distance_kernel_2JHN.npy',\n",
    "#     '3JHC': '../results/each_type/distance_kernel_3JHC_tuned_params.npy',\n",
    "#     '3JHH': '../results/each_type/distance_kernel_3JHH.npy',\n",
    "#     '3JHN': '../results/each_type/distance_kernel_3JHN.npy'\n",
    "}"
   ]
  },
  {
   "cell_type": "code",
   "execution_count": 14,
   "metadata": {},
   "outputs": [
    {
     "name": "stdout",
     "output_type": "stream",
     "text": [
      "../results/each_type/400_feats_types_split_models_1JHC.npy\n",
      "file: ../results/each_type/400_feats_types_split_models_1JHC.npy type 1JHC: error -0.6174951310682736)\n"
     ]
    },
    {
     "name": "stderr",
     "output_type": "stream",
     "text": [
      "/home/shakhrayv/.virtualenvs/py3.6-dl/lib/python3.6/site-packages/ipykernel_launcher.py:10: SettingWithCopyWarning: \n",
      "A value is trying to be set on a copy of a slice from a DataFrame.\n",
      "Try using .loc[row_indexer,col_indexer] = value instead\n",
      "\n",
      "See the caveats in the documentation: http://pandas.pydata.org/pandas-docs/stable/user_guide/indexing.html#returning-a-view-versus-a-copy\n",
      "  # Remove the CWD from sys.path while we load stuff.\n"
     ]
    },
    {
     "name": "stdout",
     "output_type": "stream",
     "text": [
      "../results/each_type/types_split_models_1JHC.npy\n",
      "file: ../results/each_type/types_split_models_1JHC.npy type 1JHC: error -0.5762878074316797)\n",
      "../results/each_type/100k_iters_distance_feats_200_feats_types_split_models_1JHC.npy\n",
      "file: ../results/each_type/100k_iters_distance_feats_200_feats_types_split_models_1JHC.npy type 1JHC: error -0.5763950288110059)\n"
     ]
    }
   ],
   "source": [
    "test['prediction'] = [0] * len(test)\n",
    "scores = []\n",
    "for type_mol, files_list in file_results.items():\n",
    "    train_mask = train.type == type_mol\n",
    "    test_mask = test.type == type_mol\n",
    "    \n",
    "    train_type = train[train_mask]\n",
    "    test_type = test[test_mask]\n",
    "    \n",
    "    train_type['oof'] = [0] * len(train_type)\n",
    "    test_type['prediction'] = [0] * len(test_type)\n",
    "    \n",
    "    for file in files_list:\n",
    "        print(file)\n",
    "        results = np.load(file, allow_pickle=True)\n",
    "        results = results.item()\n",
    "        train_type = train[train_mask]\n",
    "        train_type['oof'] = results['oof']\n",
    "        error = np.mean(np.abs(train_type['oof'] - train_type['scalar_coupling_constant']))\n",
    "        error = np.log(error)\n",
    "        print(f'file: {file} type {type_mol}: error {error})')\n",
    "\n",
    "        test_mask = test.type == type_mol\n",
    "        test.loc[test_mask, 'prediction'] = results['prediction']\n",
    "#     scores.append(error)"
   ]
  },
  {
   "cell_type": "code",
   "execution_count": null,
   "metadata": {},
   "outputs": [],
   "source": []
  },
  {
   "cell_type": "code",
   "execution_count": null,
   "metadata": {},
   "outputs": [],
   "source": []
  },
  {
   "cell_type": "code",
   "execution_count": 6,
   "metadata": {},
   "outputs": [
    {
     "name": "stdout",
     "output_type": "stream",
     "text": [
      "type 1JHC: error -0.6174951310682736)\n"
     ]
    },
    {
     "name": "stderr",
     "output_type": "stream",
     "text": [
      "/home/shakhrayv/.virtualenvs/py3.6-dl/lib/python3.6/site-packages/ipykernel_launcher.py:8: SettingWithCopyWarning: \n",
      "A value is trying to be set on a copy of a slice from a DataFrame.\n",
      "Try using .loc[row_indexer,col_indexer] = value instead\n",
      "\n",
      "See the caveats in the documentation: http://pandas.pydata.org/pandas-docs/stable/user_guide/indexing.html#returning-a-view-versus-a-copy\n",
      "  \n"
     ]
    }
   ],
   "source": [
    "test['prediction'] = [0] * len(test)\n",
    "scores = []\n",
    "for type_mol, file in file_results.items():\n",
    "    results = np.load(file, allow_pickle=True)\n",
    "    results = results.item()\n",
    "    train_mask = train.type == type_mol\n",
    "    train_type = train[train_mask]\n",
    "    train_type['oof'] = results['oof']\n",
    "    error = np.mean(np.abs(train_type['oof'] - train_type['scalar_coupling_constant']))\n",
    "    error = np.log(error)\n",
    "    print(f'type {type_mol}: error {error})')\n",
    "    \n",
    "    test_mask = test.type == type_mol\n",
    "    test.loc[test_mask, 'prediction'] = results['prediction']\n",
    "    scores.append(error)"
   ]
  },
  {
   "cell_type": "code",
   "execution_count": null,
   "metadata": {},
   "outputs": [],
   "source": []
  }
 ],
 "metadata": {
  "kernelspec": {
   "display_name": "Python 3",
   "language": "python",
   "name": "python3"
  },
  "language_info": {
   "codemirror_mode": {
    "name": "ipython",
    "version": 3
   },
   "file_extension": ".py",
   "mimetype": "text/x-python",
   "name": "python",
   "nbconvert_exporter": "python",
   "pygments_lexer": "ipython3",
   "version": "3.6.7"
  }
 },
 "nbformat": 4,
 "nbformat_minor": 2
}
