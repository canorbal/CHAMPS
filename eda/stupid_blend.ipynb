{
 "cells": [
  {
   "cell_type": "code",
   "execution_count": 1,
   "metadata": {},
   "outputs": [],
   "source": [
    "import pandas as pd\n",
    "import numpy as np\n",
    "import cvxpy"
   ]
  },
  {
   "cell_type": "code",
   "execution_count": 2,
   "metadata": {},
   "outputs": [],
   "source": [
    "train = pd.read_csv('../data/train.csv')\n",
    "sub = pd.read_csv('../data/sample_submission.csv')\n",
    "test = pd.read_csv('../data/test.csv')"
   ]
  },
  {
   "cell_type": "code",
   "execution_count": 3,
   "metadata": {},
   "outputs": [],
   "source": [
    "file_configs = {\n",
    "    '1JHC': [\n",
    "        '../results/each_type/distance_kernel_1JHC.npy',\n",
    "        '../results/each_type/100k_iters_distance_feats_200_feats_types_split_models_1JHC.npy',\n",
    "        '../results/each_type/400_feats_types_split_models_1JHC.npy',\n",
    "        '../results/each_type/giba_features_1JHC.npy',\n",
    "        '../results/each_type/types_split_models_1JHC.npy',\n",
    "        '../results/each_type/results_from_best_feats_1JHC.npy',\n",
    "        '../results/each_type/knn_and_distance_kernel_1JHC.npy',\n",
    "        '../results/each_type/knn_and_distance_kernel_1JHC_nfolds_100_topk_15.npy',\n",
    "    ],\n",
    "    '1JHN': [\n",
    "        '../results/each_type/distance_kernel_1JHN.npy',\n",
    "        '../results/each_type/100k_iters_distance_feats_200_feats_types_split_models_1JHN.npy',\n",
    "        '../results/each_type/400_feats_types_split_models_1JHN.npy',\n",
    "        '../results/each_type/groupby_distance_kernel_1JHN.npy',\n",
    "        '../results/each_type/giba_features_1JHN.npy',\n",
    "        '../results/each_type/types_split_models_1JHN.npy',\n",
    "        '../results/each_type/results_from_best_feats_1JHN.npy',\n",
    "        '../results/each_type/knn_and_distance_kernel_1JHN.npy',\n",
    "        '../results/each_type/knn_and_distance_kernel_1JHN_nfolds_100_topk_15.npy',\n",
    "    ],\n",
    "    '2JHC': [\n",
    "        '../results/each_type/100k_iters_distance_feats_200_feats_types_split_models_2JHC.npy',\n",
    "        '../results/each_type/400_feats_types_split_models_2JHC.npy',\n",
    "        '../results/each_type/distance_kernel_2JHC.npy',\n",
    "        '../results/each_type/giba_features_2JHC.npy',\n",
    "        '../results/each_type/results_from_best_feats_2JHC.npy',\n",
    "        '../results/each_type/types_split_models_2JHC.npy',\n",
    "        '../results/each_type/knn_and_distance_kernel_2JHC_nfolds_100_topk_15.npy',\n",
    "    ],\n",
    "    '2JHN': [\n",
    "        '../results/each_type/100k_iters_distance_feats_200_feats_types_split_models_2JHN.npy',\n",
    "        '../results/each_type/400_feats_types_split_models_2JHN.npy',\n",
    "        '../results/each_type/distance_kernel_2JHN.npy',\n",
    "        '../results/each_type/giba_features_2JHN.npy',\n",
    "        '../results/each_type/groupby_distance_kernel_2JHN.npy',\n",
    "        '../results/each_type/results_from_best_feats_2JHN.npy',\n",
    "        '../results/each_type/tuned_kernel_distance_2JHN.npy',\n",
    "        '../results/each_type/types_split_models_2JHN.npy',\n",
    "#         '../results/each_type/knn_and_distance_kernel_2JHN.npy',\n",
    "        '../results/each_type/knn_and_distance_kernel_2JHN_nfolds_100_topk_15.npy',\n",
    "    ],\n",
    "    '2JHH': [\n",
    "        '../results/each_type/100k_iters_distance_feats_200_feats_types_split_models_2JHH.npy',\n",
    "        '../results/each_type/400_feats_types_split_models_2JHH.npy',\n",
    "        '../results/each_type/distance_kernel_2JHH.npy',\n",
    "        '../results/each_type/giba_features_2JHH.npy',\n",
    "        '../results/each_type/groupby_distance_kernel_2JHH.npy',\n",
    "        '../results/each_type/results_from_best_feats_2JHH.npy',\n",
    "        '../results/each_type/types_split_models_2JHH.npy',\n",
    "        '../results/each_type/knn_and_distance_kernel_2JHH.npy',\n",
    "        '../results/each_type/knn_and_distance_kernel_2JHH_nfolds_100_topk_15.npy',\n",
    "    ],\n",
    "    '3JHC': [\n",
    "        '../results/each_type/100k_iters_distance_feats_200_feats_types_split_models_3JHC.npy',\n",
    "        '../results/each_type/400_feats_types_split_models_3JHC.npy',\n",
    "        '../results/each_type/distance_kernel_3JHC.npy',\n",
    "        '../results/each_type/giba_features_3JHC.npy',\n",
    "        '../results/each_type/results_from_best_feats_3JHC.npy',\n",
    "        '../results/each_type/types_split_models_3JHC.npy',\n",
    "        '../results/each_type/knn_and_distance_kernel_3JHC_nfolds_100_topk_15.npy',\n",
    "\n",
    "    ],\n",
    "    '3JHH': [\n",
    "        '../results/each_type/100k_iters_distance_feats_200_feats_types_split_models_3JHH.npy',\n",
    "        '../results/each_type/400_feats_types_split_models_3JHH.npy',\n",
    "        '../results/each_type/distance_kernel_3JHH.npy',\n",
    "        '../results/each_type/giba_features_3JHH.npy',\n",
    "        '../results/each_type/results_from_best_feats_3JHH.npy',\n",
    "        '../results/each_type/types_split_models_3JHH.npy',\n",
    "        '../results/each_type/tuned_kernel_distance_3JHH.npy',\n",
    "        '../results/each_type/knn_and_distance_kernel_3JHH_nfolds_100_topk_15.npy',\n",
    "    ],\n",
    "    '3JHN': [\n",
    "        '../results/each_type/400_feats_types_split_models_3JHN.npy',\n",
    "        '../results/each_type/distance_kernel_3JHN.npy',\n",
    "        '../results/each_type/giba_features_3JHN.npy',\n",
    "        '../results/each_type/groupby_distance_kernel_3JHN.npy',\n",
    "        '../results/each_type/results_from_best_feats_3JHN.npy',\n",
    "        '../results/each_type/types_split_models_3JHN.npy',\n",
    "        '../results/each_type/tuned_kernel_distance_3JHN.npy',\n",
    "        '../results/each_type/knn_and_distance_kernel_3JHN_nfolds_100_topk_15.npy',\n",
    "    ]\n",
    "}"
   ]
  },
  {
   "cell_type": "code",
   "execution_count": null,
   "metadata": {},
   "outputs": [],
   "source": []
  },
  {
   "cell_type": "code",
   "execution_count": 4,
   "metadata": {},
   "outputs": [],
   "source": [
    "from sklearn.linear_model import LinearRegression, RidgeCV"
   ]
  },
  {
   "cell_type": "code",
   "execution_count": 5,
   "metadata": {},
   "outputs": [
    {
     "name": "stdout",
     "output_type": "stream",
     "text": [
      "type 1JHC\n",
      "file ../results/each_type/distance_kernel_1JHC.npy, error -0.49523276998748106\n",
      "file ../results/each_type/100k_iters_distance_feats_200_feats_types_split_models_1JHC.npy, error -0.5763950288110059\n",
      "file ../results/each_type/400_feats_types_split_models_1JHC.npy, error -0.6174951310682736\n",
      "file ../results/each_type/giba_features_1JHC.npy, error -0.2720270977098093\n",
      "file ../results/each_type/types_split_models_1JHC.npy, error -0.5762878074316797\n",
      "file ../results/each_type/results_from_best_feats_1JHC.npy, error -0.5314412672747475\n",
      "file ../results/each_type/knn_and_distance_kernel_1JHC.npy, error -0.4536219478972443\n",
      "file ../results/each_type/knn_and_distance_kernel_1JHC_nfolds_100_topk_15.npy, error -0.3749027033354864\n",
      "****************************************\n",
      "type 1JHC, error -0.7498670699670388\n",
      "type 2JHH\n",
      "file ../results/each_type/100k_iters_distance_feats_200_feats_types_split_models_2JHH.npy, error -1.9216928842184604\n",
      "file ../results/each_type/400_feats_types_split_models_2JHH.npy, error -1.9938677489293195\n",
      "file ../results/each_type/distance_kernel_2JHH.npy, error -1.9578527524102634\n",
      "file ../results/each_type/giba_features_2JHH.npy, error -1.6705054673410331\n",
      "file ../results/each_type/groupby_distance_kernel_2JHH.npy, error -1.9080390177280557\n",
      "file ../results/each_type/results_from_best_feats_2JHH.npy, error -1.6694228160920994\n",
      "file ../results/each_type/types_split_models_2JHH.npy, error -1.9572679389956176\n",
      "file ../results/each_type/knn_and_distance_kernel_2JHH.npy, error -1.940583877426979\n",
      "file ../results/each_type/knn_and_distance_kernel_2JHH_nfolds_100_topk_15.npy, error -1.8416612720032126\n",
      "****************************************\n",
      "type 2JHH, error -2.224458679837962\n",
      "type 1JHN\n",
      "file ../results/each_type/distance_kernel_1JHN.npy, error -1.1695006584950107\n",
      "file ../results/each_type/100k_iters_distance_feats_200_feats_types_split_models_1JHN.npy, error -0.9872917911543142\n",
      "file ../results/each_type/400_feats_types_split_models_1JHN.npy, error -1.0973199579925539\n",
      "file ../results/each_type/groupby_distance_kernel_1JHN.npy, error -1.1199097904366873\n",
      "file ../results/each_type/giba_features_1JHN.npy, error -0.9160302795793015\n",
      "file ../results/each_type/types_split_models_1JHN.npy, error -1.0839367416393881\n",
      "file ../results/each_type/results_from_best_feats_1JHN.npy, error -0.9395393045171966\n",
      "file ../results/each_type/knn_and_distance_kernel_1JHN.npy, error -1.0323645266749952\n",
      "file ../results/each_type/knn_and_distance_kernel_1JHN_nfolds_100_topk_15.npy, error -0.927558828681677\n",
      "****************************************\n",
      "type 1JHN, error -1.3400981130276284\n",
      "type 2JHN\n",
      "file ../results/each_type/100k_iters_distance_feats_200_feats_types_split_models_2JHN.npy, error -1.789014535565051\n",
      "file ../results/each_type/400_feats_types_split_models_2JHN.npy, error -1.839523293134604\n",
      "file ../results/each_type/distance_kernel_2JHN.npy, error -2.142502755189048\n",
      "file ../results/each_type/giba_features_2JHN.npy, error -1.5217565225669307\n",
      "file ../results/each_type/groupby_distance_kernel_2JHN.npy, error -2.068478833289558\n",
      "file ../results/each_type/results_from_best_feats_2JHN.npy, error -1.4595542790203913\n",
      "file ../results/each_type/tuned_kernel_distance_2JHN.npy, error -2.0673434546159903\n",
      "file ../results/each_type/types_split_models_2JHN.npy, error -1.8483963267105974\n",
      "file ../results/each_type/knn_and_distance_kernel_2JHN_nfolds_100_topk_15.npy, error -1.9494649666798662\n",
      "****************************************\n",
      "type 2JHN, error -2.255572403795887\n",
      "type 2JHC\n",
      "file ../results/each_type/100k_iters_distance_feats_200_feats_types_split_models_2JHC.npy, error -1.4683057927428704\n",
      "file ../results/each_type/400_feats_types_split_models_2JHC.npy, error -1.3537959101997248\n",
      "file ../results/each_type/distance_kernel_2JHC.npy, error -1.5579814066619906\n",
      "file ../results/each_type/giba_features_2JHC.npy, error -1.0258806023269127\n",
      "file ../results/each_type/results_from_best_feats_2JHC.npy, error -1.2103667019515278\n",
      "file ../results/each_type/types_split_models_2JHC.npy, error -1.2713441408892443\n",
      "file ../results/each_type/knn_and_distance_kernel_2JHC_nfolds_100_topk_15.npy, error -1.4531326820609136\n",
      "****************************************\n",
      "type 2JHC, error -1.7037758363260638\n",
      "type 3JHH\n",
      "file ../results/each_type/100k_iters_distance_feats_200_feats_types_split_models_3JHH.npy, error -1.7855073369055747\n",
      "file ../results/each_type/400_feats_types_split_models_3JHH.npy, error -1.7523904446651797\n",
      "file ../results/each_type/distance_kernel_3JHH.npy, error -2.0313859748411014\n",
      "file ../results/each_type/giba_features_3JHH.npy, error -1.488429445320825\n",
      "file ../results/each_type/results_from_best_feats_3JHH.npy, error -1.5427277939451276\n",
      "file ../results/each_type/types_split_models_3JHH.npy, error -1.7634029943617466\n",
      "file ../results/each_type/tuned_kernel_distance_3JHH.npy, error -2.058484338541386\n",
      "file ../results/each_type/knn_and_distance_kernel_3JHH_nfolds_100_topk_15.npy, error -1.9045772776095045\n",
      "****************************************\n",
      "type 3JHH, error -2.184128936259284\n",
      "type 3JHC\n",
      "file ../results/each_type/100k_iters_distance_feats_200_feats_types_split_models_3JHC.npy, error -1.3606467433641976\n",
      "file ../results/each_type/400_feats_types_split_models_3JHC.npy, error -1.1037013862676033\n",
      "file ../results/each_type/distance_kernel_3JHC.npy, error -1.430090527124666\n",
      "file ../results/each_type/giba_features_3JHC.npy, error -0.8404589862088812\n",
      "file ../results/each_type/results_from_best_feats_3JHC.npy, error -1.0993938905282048\n",
      "file ../results/each_type/types_split_models_3JHC.npy, error -1.0489031186419695\n",
      "file ../results/each_type/knn_and_distance_kernel_3JHC_nfolds_100_topk_15.npy, error -1.3496230418730162\n",
      "****************************************\n",
      "type 3JHC, error -1.5932638503477465\n",
      "type 3JHN\n",
      "file ../results/each_type/400_feats_types_split_models_3JHN.npy, error -1.9581300578568739\n",
      "file ../results/each_type/distance_kernel_3JHN.npy, error -2.3800361321051033\n",
      "file ../results/each_type/giba_features_3JHN.npy, error -1.69802594585556\n",
      "file ../results/each_type/groupby_distance_kernel_3JHN.npy, error -2.2411088765159723\n",
      "file ../results/each_type/results_from_best_feats_3JHN.npy, error -1.635332606285779\n",
      "file ../results/each_type/types_split_models_3JHN.npy, error -1.963877528895825\n",
      "file ../results/each_type/tuned_kernel_distance_3JHN.npy, error -2.243766951203162\n",
      "file ../results/each_type/knn_and_distance_kernel_3JHN_nfolds_100_topk_15.npy, error -2.1947853119185257\n",
      "****************************************\n",
      "type 3JHN, error -2.4400151836432107\n"
     ]
    }
   ],
   "source": [
    "scores = []\n",
    "for type_mol in train.type.unique():\n",
    "# for type_mol in ['3JHN']:\n",
    "    print(f'type {type_mol}')\n",
    "    train_mask = train.type == type_mol\n",
    "    train_type = train[train_mask]\n",
    "    \n",
    "    files = file_configs[type_mol]\n",
    "    number_of_files = len(files)\n",
    "    \n",
    "    res_oof = [np.load(file, allow_pickle=True).item()['oof'] for file in files]\n",
    "    \n",
    "    for i, cur_res_oof in enumerate(res_oof):\n",
    "        cur_error = np.log(np.mean(np.abs(cur_res_oof - train_type['scalar_coupling_constant'])))\n",
    "        print(f'file {files[i]}, error {cur_error}')\n",
    "    \n",
    "    res_preds = [np.load(file, allow_pickle=True).item()['prediction'] for file in files]\n",
    "    \n",
    "    X_train = np.vstack(res_oof).T\n",
    "    X_test = np.vstack(res_preds).T\n",
    "    \n",
    "    y_train = train_type['scalar_coupling_constant']\n",
    "    lr = RidgeCV(\n",
    "        alphas=[10e-4, 10e-3, 10e-2, 0.05, 0.1, 0.5, 1., 5., 10., 100., 500, 1000, 10000],\n",
    "        fit_intercept=False,\n",
    "        cv=20,\n",
    "    )\n",
    "\n",
    "    lr.fit(X_train, y_train)\n",
    "    oof_preds = lr.predict(X_train)\n",
    "    \n",
    "    \n",
    "    error = np.mean(np.abs(oof_preds - train_type['scalar_coupling_constant']))\n",
    "    error = np.log(error)\n",
    "    print('*' * 40)\n",
    "    print(f'type {type_mol}, error {error}')\n",
    "    \n",
    "    test_preds = lr.predict(X_test)\n",
    "    test_mask = test.type == type_mol\n",
    "    test.loc[test_mask, 'prediction'] = test_preds\n",
    "    \n",
    "    scores.append(error)"
   ]
  },
  {
   "cell_type": "code",
   "execution_count": 6,
   "metadata": {},
   "outputs": [
    {
     "data": {
      "text/plain": [
       "-1.8113975091506027"
      ]
     },
     "execution_count": 6,
     "metadata": {},
     "output_type": "execute_result"
    }
   ],
   "source": [
    "np.mean(scores)"
   ]
  },
  {
   "cell_type": "code",
   "execution_count": 7,
   "metadata": {},
   "outputs": [],
   "source": [
    "sub['scalar_coupling_constant'] = test['prediction']\n",
    "sub.to_csv('../submissions/lin_regression_with_cv.csv', index=False)"
   ]
  },
  {
   "cell_type": "code",
   "execution_count": 8,
   "metadata": {},
   "outputs": [
    {
     "data": {
      "text/plain": [
       "10.0"
      ]
     },
     "execution_count": 8,
     "metadata": {},
     "output_type": "execute_result"
    }
   ],
   "source": [
    "lr.alpha_"
   ]
  },
  {
   "cell_type": "code",
   "execution_count": null,
   "metadata": {},
   "outputs": [],
   "source": []
  }
 ],
 "metadata": {
  "kernelspec": {
   "display_name": "Python 3",
   "language": "python",
   "name": "python3"
  },
  "language_info": {
   "codemirror_mode": {
    "name": "ipython",
    "version": 3
   },
   "file_extension": ".py",
   "mimetype": "text/x-python",
   "name": "python",
   "nbconvert_exporter": "python",
   "pygments_lexer": "ipython3",
   "version": "3.6.7"
  }
 },
 "nbformat": 4,
 "nbformat_minor": 2
}
